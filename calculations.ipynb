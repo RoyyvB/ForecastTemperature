{
 "metadata": {
  "language_info": {
   "codemirror_mode": {
    "name": "ipython",
    "version": 3
   },
   "file_extension": ".py",
   "mimetype": "text/x-python",
   "name": "python",
   "nbconvert_exporter": "python",
   "pygments_lexer": "ipython3",
   "version": "3.8.2-final"
  },
  "orig_nbformat": 2,
  "kernelspec": {
   "name": "python3",
   "display_name": "Python 3"
  }
 },
 "nbformat": 4,
 "nbformat_minor": 2,
 "cells": [
  {
   "cell_type": "code",
   "execution_count": 3,
   "metadata": {},
   "outputs": [],
   "source": [
    "import pandas as pd\n",
    "import numpy as np\n",
    "import glob\n",
    "import time\n",
    "\n",
    "from functools import reduce\n",
    "from scipy import stats"
   ]
  },
  {
   "cell_type": "code",
   "execution_count": 4,
   "metadata": {},
   "outputs": [],
   "source": [
    "path = r\"C:\\Users\\Roy\\Desktop\\ForecastTemperature\"\n",
    "\n",
    "def read_ahu_one():\n",
    "\n",
    "    ahu_one = \"\\AHU1\\\\\"\n",
    "\n",
    "    exh = pd.read_csv(path + ahu_one + \"ahu1_evac.csv\")\n",
    "    ext = pd.read_csv(path + ahu_one + \"ahu1_ext.csv\")\n",
    "    hum = pd.read_csv(path + ahu_one + \"ahu1_hum.csv\")\n",
    "    sup = pd.read_csv(path + ahu_one + \"ahu1_in.csv\")\n",
    "    rec = pd.read_csv(path + ahu_one + \"ahu1_rec.csv\")\n",
    "\n",
    "    exh.columns = ['date', 'exh'] # Exhaust temperature\n",
    "    ext.columns = ['date', 'ext'] # Outdoor temperature\n",
    "    hum.columns = ['date', 'hum'] # Humidity\n",
    "    sup.columns = ['date', 'sup'] # Supply temperature\n",
    "    rec.columns = ['date', 'rec'] # Recirculation temperature\n",
    "\n",
    "    return exh, ext, hum, sup, rec\n",
    "\n",
    "evac, ext, hum, sup, rec = read_ahu_one()\n",
    "\n",
    "def MergeData():\n",
    "\n",
    "    list_of_data = [evac, ext, hum, sup, rec]\n",
    "\n",
    "    data = reduce(lambda  left,right: pd.merge(left,right,on=['date'],\n",
    "                                            how='outer'), list_of_data)\n",
    "\n",
    "    # Reorder columns.\n",
    "    data = data[['date', 'exh', 'ext', 'hum', 'rec', 'sup']]\n",
    "\n",
    "    return data\n",
    "\n",
    "data = MergeData()\n",
    "\n",
    "def PrepareData():\n",
    "\n",
    "    evac, ext, hum, sup, rec = read_ahu_one()\n",
    "\n",
    "    data = MergeData()\n",
    "\n",
    "    return data\n",
    "\n",
    "data = PrepareData()"
   ]
  },
  {
   "cell_type": "code",
   "execution_count": 5,
   "metadata": {},
   "outputs": [
    {
     "output_type": "stream",
     "name": "stdout",
     "text": [
      "                        date   exh  ext   hum   rec   sup        energy  \\\n0   06-Jan-17 5:15:00 PM EET  27.2 -2.5  50.0  10.6  34.6  1.986020e+07   \n1   06-Jan-17 5:20:00 PM EET  27.2 -2.5  50.0  10.6  34.7  5.739943e+04   \n2   06-Jan-17 5:25:00 PM EET  27.2 -2.5  50.0  10.6  34.2 -2.869971e+05   \n3   06-Jan-17 5:30:00 PM EET  27.2 -3.0  50.0  10.6  34.7  2.869971e+05   \n4   06-Jan-17 5:35:00 PM EET  27.2 -3.5  50.0  10.6  34.2 -2.869971e+05   \n5   06-Jan-17 5:40:00 PM EET  27.2 -3.5  50.0  10.1  34.2  1.599319e+02   \n6   06-Jan-17 5:45:00 PM EET  27.2 -3.5  50.0  10.1  34.2  1.599319e+02   \n7   06-Jan-17 5:50:00 PM EET  27.2 -3.5  50.0  10.1  34.2  1.599319e+02   \n8   06-Jan-17 5:55:00 PM EET  27.2 -3.5  50.0  10.1  34.7  2.869971e+05   \n9   06-Jan-17 6:00:00 PM EET  27.2 -4.0  50.0  10.1  34.7  1.599319e+02   \n10  06-Jan-17 6:05:00 PM EET  27.2 -4.0  50.0  10.1  34.7  1.599319e+02   \n11  06-Jan-17 6:10:00 PM EET  27.2 -3.5  50.0  10.1  34.7  1.599319e+02   \n12  06-Jan-17 6:15:00 PM EET  27.2 -4.0  50.0  10.1  34.7  1.599319e+02   \n13  06-Jan-17 6:20:00 PM EET  27.2 -3.5  50.0  10.1  34.7  1.599319e+02   \n14  06-Jan-17 6:25:00 PM EET  27.2 -3.5  50.0  10.1  34.7  1.599319e+02   \n\n    sup_diff       kwh  \n0       34.6  5.517164  \n1        0.1  0.015946  \n2       -0.5 -0.079728  \n3        0.5  0.079728  \n4       -0.5 -0.079728  \n5        0.0  0.000000  \n6        0.0  0.000000  \n7        0.0  0.000000  \n8        0.5  0.079728  \n9        0.0  0.000000  \n10       0.0  0.000000  \n11       0.0  0.000000  \n12       0.0  0.000000  \n13       0.0  0.000000  \n14       0.0  0.000000  \n\nTotal energy use is 22,512,811.04 in Joules.\nThis is 6.25 in kWh.\nThis computation took 12.327592559655507 minutes.\n"
     ]
    }
   ],
   "source": [
    "def CalculateEnergy(data):\n",
    "    \"\"\"Calculates the energy necessary to\n",
    "    attain a certain temperature.\"\"\"\n",
    "\n",
    "    # Creates two new columns: energy and sup_diff.\n",
    "    # Energy will be calculated using specific heat.\n",
    "    # Sup_diff calculates the difference in supply air temp.\n",
    "    data['energy'] = None\n",
    "    data['energy'] = pd.to_numeric(data['energy'], downcast='integer')\n",
    "    data['sup_diff'] = data['sup'].diff()\n",
    "    data['sup_diff'][0] = \"34.6\"\n",
    "\n",
    "    # The approximate density of air (room temperature) is 1.292 per cubic meter (m3).\n",
    "    # The cubic meter per hour in Cabin J14 is 439 m3/h.\n",
    "    mass = (1.292 * 439) # Kilograms.\n",
    "    specific_heat = 1012 # Joule.\n",
    "\n",
    "    start = time.time()\n",
    "\n",
    "    for row in data.itertuples():\n",
    "\n",
    "        # Calculates the energy required to heat up a room.\n",
    "        data['energy'] = (mass * specific_heat * data['sup_diff']).round(decimals=2)\n",
    "        data['kwh'] = (data['energy'] * 0.0000002778)\n",
    "        \n",
    "        # Fills up zero values with the average value.\n",
    "        data['energy'] = data['energy'].replace(to_replace=0, value=data['energy'].mean())\n",
    "\n",
    "    print(data.head(n=15))\n",
    "\n",
    "    # Sums up J and converts it to kWh.\n",
    "    JouleSum = data['energy'].sum()\n",
    "    kWhSum = (JouleSum * 0.0000002778)\n",
    "    \n",
    "    print(\"\\nTotal energy use is {0:,.2f} in Joules.\".format(JouleSum))\n",
    "    print(\"This is {0:,.2f} in kWh.\".format(kWhSum))\n",
    "\n",
    "    stop = time.time()\n",
    "    c_time = stop - start\n",
    "\n",
    "    print(\"This computation took \" + str((c_time / 60)) + \" minutes.\")\n",
    "\n",
    "    return data\n",
    "\n",
    "data = CalculateEnergy(data)"
   ]
  },
  {
   "cell_type": "code",
   "execution_count": 6,
   "metadata": {},
   "outputs": [
    {
     "output_type": "stream",
     "name": "stdout",
     "text": [
      "                            exh  ext   hum   rec   sup        energy  \\\ndate                                                                   \n2017-01-06 17:15:00+00:00  27.2 -2.5  50.0  10.6  34.6  1.986020e+07   \n2017-01-06 17:20:00+00:00  27.2 -2.5  50.0  10.6  34.7  5.739943e+04   \n2017-01-06 17:25:00+00:00  27.2 -2.5  50.0  10.6  34.2 -2.869971e+05   \n2017-01-06 17:30:00+00:00  27.2 -3.0  50.0  10.6  34.7  2.869971e+05   \n2017-01-06 17:35:00+00:00  27.2 -3.5  50.0  10.6  34.2 -2.869971e+05   \n2017-01-06 17:40:00+00:00  27.2 -3.5  50.0  10.1  34.2  1.599319e+02   \n2017-01-06 17:45:00+00:00  27.2 -3.5  50.0  10.1  34.2  1.599319e+02   \n2017-01-06 17:50:00+00:00  27.2 -3.5  50.0  10.1  34.2  1.599319e+02   \n2017-01-06 17:55:00+00:00  27.2 -3.5  50.0  10.1  34.7  2.869971e+05   \n2017-01-06 18:00:00+00:00  27.2 -4.0  50.0  10.1  34.7  1.599319e+02   \n\n                           sup_diff       kwh  rmot  rmit  rmoh  \ndate                                                             \n2017-01-06 17:15:00+00:00      34.6  5.517164  -4.0  34.7  50.0  \n2017-01-06 17:20:00+00:00       0.1  0.015946  -4.0  34.7  50.0  \n2017-01-06 17:25:00+00:00      -0.5 -0.079728  -4.0  34.7  50.0  \n2017-01-06 17:30:00+00:00       0.5  0.079728  -4.0  34.7  50.0  \n2017-01-06 17:35:00+00:00      -0.5 -0.079728  -4.0  34.7  50.0  \n2017-01-06 17:40:00+00:00       0.0  0.000000  -4.0  34.7  50.0  \n2017-01-06 17:45:00+00:00       0.0  0.000000  -4.0  34.7  50.0  \n2017-01-06 17:50:00+00:00       0.0  0.000000  -4.0  34.7  50.0  \n2017-01-06 17:55:00+00:00       0.5  0.079728  -4.0  34.7  50.0  \n2017-01-06 18:00:00+00:00       0.0  0.000000  -4.0  34.7  50.0  \n"
     ]
    }
   ],
   "source": [
    "def CalculateRMT(data):\n",
    "    \"\"\"This function calculates the\n",
    "    hourly running mean outdoor and \n",
    "    indoor temperatures and humidity.\"\"\"\n",
    "    \n",
    "    data = data.set_index('date')\n",
    "    data.index = pd.to_datetime(data.index, utc=True)\n",
    "\n",
    "    # Resamples each variable into an hourly mean.\n",
    "    hourly_mean_outside = data['ext'].resample('H').mean()\n",
    "    hourly_mean_supply = data['sup'].resample('H').mean()\n",
    "    hourly_mean_humidity = data['hum'].resample('H').mean()\n",
    "\n",
    "    # Appends variables as fresh columns.\n",
    "    data['rmot'] = hourly_mean_outside\n",
    "    data['rmit'] = hourly_mean_supply\n",
    "    data['rmoh'] = hourly_mean_humidity\n",
    "\n",
    "    columns = ['rmot', 'rmit', 'rmoh']\n",
    "\n",
    "    data[columns] = data[columns].fillna(method='ffill')\n",
    "    data[columns] = data[columns].fillna(method='bfill')\n",
    "    data[columns] = data[columns].round(decimals=2)\n",
    "    \n",
    "    print(data.head(n=10))\n",
    "\n",
    "    return data\n",
    "\n",
    "data = CalculateRMT(data)"
   ]
  },
  {
   "cell_type": "code",
   "execution_count": 7,
   "metadata": {},
   "outputs": [],
   "source": [
    "def Interpolate(data):\n",
    "    \"\"\"Fills up more 0 values.\"\"\"\n",
    "\n",
    "    columns = ['exh', 'ext', 'hum', 'rec',\n",
    "               'sup', 'rmot', 'rmit', 'rmoh']\n",
    "\n",
    "    data[columns] = data[columns].replace(to_replace=0, value=data[columns].mean())\n",
    "    data[columns] = data[columns].round(decimals=2)\n",
    "\n",
    "    return data\n",
    "\n",
    "datA = Interpolate(data)    "
   ]
  },
  {
   "cell_type": "code",
   "execution_count": 14,
   "metadata": {},
   "outputs": [
    {
     "output_type": "stream",
     "name": "stdout",
     "text": [
      "\nHighest z-score is 4.595157665692344\n\nData shape before outlier removal: (103004, 12)\nData shape after outlier removal: (100278, 12)\n\nHighest z-score is now 2.4949638670015575\n"
     ]
    }
   ],
   "source": [
    "def RemoveOutlierZ(data):\n",
    "\n",
    "    data['z'] = np.abs(stats.zscore(data['sup']))\n",
    "\n",
    "    print(\"\\nHighest z-score is \" + str(data['z'].max()))\n",
    "\n",
    "    print(\"\\nData shape before outlier removal: \" + str(data.shape))\n",
    "    data = data[data.z < 2.5]\n",
    "    print(\"Data shape after outlier removal: \" + str(data.shape))\n",
    "    z = np.abs(stats.zscore(data['sup']))\n",
    "    print(\"\\nHighest z-score is now \" + str(data['z'].max()))\n",
    "\n",
    "    return data\n",
    "\n",
    "data = RemoveOutlierZ(datA)\n",
    "data_v2 = pd.DataFrame.copy(data, deep=True)"
   ]
  },
  {
   "cell_type": "code",
   "execution_count": 15,
   "metadata": {},
   "outputs": [],
   "source": [
    "data.to_csv('data.csv')"
   ]
  },
  {
   "cell_type": "code",
   "execution_count": null,
   "metadata": {},
   "outputs": [],
   "source": []
  }
 ]
}