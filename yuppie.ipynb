{
 "metadata": {
  "language_info": {
   "codemirror_mode": {
    "name": "ipython",
    "version": 3
   },
   "file_extension": ".py",
   "mimetype": "text/x-python",
   "name": "python",
   "nbconvert_exporter": "python",
   "pygments_lexer": "ipython3",
   "version": "3.8.2-final"
  },
  "orig_nbformat": 2,
  "kernelspec": {
   "name": "python3",
   "display_name": "Python 3"
  }
 },
 "nbformat": 4,
 "nbformat_minor": 2,
 "cells": [
  {
   "source": [
    "import pandas as pd\n",
    "import numpy as np\n",
    "import glob\n",
    "import time\n",
    "\n",
    "import seaborn as sns\n",
    "import matplotlib.pyplot as plt\n",
    "from pandas_profiling import ProfileReport\n",
    "from calculations import CalculateEnergy\n",
    "\n",
    "import seaborn as sns\n",
    "import matplotlib.pyplot as plt\n",
    "import plotly.offline as py\n",
    "import plotly.graph_objs as go\n",
    "import plotly.tools as tls\n",
    "\n",
    "from functools import reduce"
   ],
   "cell_type": "code",
   "metadata": {},
   "execution_count": 1,
   "outputs": [
    {
     "output_type": "stream",
     "name": "stdout",
     "text": [
      "                        date   exh  ext   hum   rec   sup        energy  \\\n0   06-Jan-17 5:15:00 PM EET  27.2 -2.5  50.0  10.6  34.6  1.986020e+07   \n1   06-Jan-17 5:20:00 PM EET  27.2 -2.5  50.0  10.6  34.7  5.739943e+04   \n2   06-Jan-17 5:25:00 PM EET  27.2 -2.5  50.0  10.6  34.2 -2.869971e+05   \n3   06-Jan-17 5:30:00 PM EET  27.2 -3.0  50.0  10.6  34.7  2.869971e+05   \n4   06-Jan-17 5:35:00 PM EET  27.2 -3.5  50.0  10.6  34.2 -2.869971e+05   \n5   06-Jan-17 5:40:00 PM EET  27.2 -3.5  50.0  10.1  34.2  1.599319e+02   \n6   06-Jan-17 5:45:00 PM EET  27.2 -3.5  50.0  10.1  34.2  1.599319e+02   \n7   06-Jan-17 5:50:00 PM EET  27.2 -3.5  50.0  10.1  34.2  1.599319e+02   \n8   06-Jan-17 5:55:00 PM EET  27.2 -3.5  50.0  10.1  34.7  2.869971e+05   \n9   06-Jan-17 6:00:00 PM EET  27.2 -4.0  50.0  10.1  34.7  1.599319e+02   \n10  06-Jan-17 6:05:00 PM EET  27.2 -4.0  50.0  10.1  34.7  1.599319e+02   \n11  06-Jan-17 6:10:00 PM EET  27.2 -3.5  50.0  10.1  34.7  1.599319e+02   \n12  06-Jan-17 6:15:00 PM EET  27.2 -4.0  50.0  10.1  34.7  1.599319e+02   \n13  06-Jan-17 6:20:00 PM EET  27.2 -3.5  50.0  10.1  34.7  1.599319e+02   \n14  06-Jan-17 6:25:00 PM EET  27.2 -3.5  50.0  10.1  34.7  1.599319e+02   \n\n    sup_diff  \n0       34.6  \n1        0.1  \n2       -0.5  \n3        0.5  \n4       -0.5  \n5        0.0  \n6        0.0  \n7        0.0  \n8        0.5  \n9        0.0  \n10       0.0  \n11       0.0  \n12       0.0  \n13       0.0  \n14       0.0  \n\nTotal energy use is 22,512,811.04 in Joules.\nThis is 6.25 in kWh.\nThis computation took 11.989273675282796 minutes.\n"
     ]
    }
   ]
  },
  {
   "cell_type": "code",
   "execution_count": 2,
   "metadata": {},
   "outputs": [],
   "source": [
    "path = r\"C:\\Users\\Roy\\Desktop\\ForecastTemperature\"\n",
    "\n",
    "def read_ahu_one():\n",
    "\n",
    "    ahu_one = \"\\AHU1\\\\\"\n",
    "\n",
    "    exh = pd.read_csv(path + ahu_one + \"ahu1_evac.csv\")\n",
    "    ext = pd.read_csv(path + ahu_one + \"ahu1_ext.csv\")\n",
    "    hum = pd.read_csv(path + ahu_one + \"ahu1_hum.csv\")\n",
    "    sup = pd.read_csv(path + ahu_one + \"ahu1_in.csv\")\n",
    "    rec = pd.read_csv(path + ahu_one + \"ahu1_rec.csv\")\n",
    "\n",
    "    exh.columns = ['date', 'exh'] # Exhaust temperature\n",
    "    ext.columns = ['date', 'ext'] # Outdoor temperature\n",
    "    hum.columns = ['date', 'hum'] # Humidity\n",
    "    sup.columns = ['date', 'sup'] # Supply temperature\n",
    "    rec.columns = ['date', 'rec'] # Recirculation temperature\n",
    "\n",
    "    return exh, ext, hum, sup, rec\n",
    "\n",
    "evac, ext, hum, sup, rec = read_ahu_one()\n",
    "\n",
    "def MergeData():\n",
    "\n",
    "    list_of_data = [evac, ext, hum, sup, rec]\n",
    "\n",
    "    data = reduce(lambda  left,right: pd.merge(left,right,on=['date'],\n",
    "                                            how='outer'), list_of_data)\n",
    "\n",
    "    # Reorder columns.\n",
    "    data = data[['date', 'exh', 'ext', 'hum', 'rec', 'sup']]\n",
    "\n",
    "    return data\n",
    "\n",
    "data = MergeData()\n",
    "\n",
    "def PrepareData():\n",
    "\n",
    "    evac, ext, hum, sup, rec = read_ahu_one()\n",
    "\n",
    "    data = MergeData()\n",
    "\n",
    "    return data\n",
    "\n",
    "data = PrepareData()"
   ]
  },
  {
   "cell_type": "code",
   "execution_count": 3,
   "metadata": {},
   "outputs": [],
   "source": [
    "def GenerateProfile(data, title_name, title_output):\n",
    "\n",
    "    profile = ProfileReport(data, title=title_name)\n",
    "    profile.to_file(output_file=title_output)\n",
    "\n",
    "def CorrelationMap():\n",
    "    \n",
    "    print(data.columns)\n",
    "\n",
    "    DC = data.iloc[:, 1:5]\n",
    "    CRLN = DC.corr()\n",
    "\n",
    "    f, ax = plt.subplots(figsize=(17, 14))\n",
    "    sns.heatmap(CRLN, annot=True, fmt=\".2f\")\n",
    "    plt.xticks(range(len(CRLN.columns)), CRLN.columns)\n",
    "    plt.yticks(range(len(CRLN.columns)), CRLN.columns)\n",
    "    plt.show()\n"
   ]
  },
  {
   "cell_type": "code",
   "execution_count": 10,
   "metadata": {},
   "outputs": [
    {
     "output_type": "stream",
     "name": "stdout",
     "text": [
      "                        date   exh  ext   hum   rec   sup        energy  \\\n0   06-Jan-17 5:15:00 PM EET  27.2 -2.5  50.0  10.6  34.6  1.986020e+07   \n1   06-Jan-17 5:20:00 PM EET  27.2 -2.5  50.0  10.6  34.7  5.739943e+04   \n2   06-Jan-17 5:25:00 PM EET  27.2 -2.5  50.0  10.6  34.2 -2.869971e+05   \n3   06-Jan-17 5:30:00 PM EET  27.2 -3.0  50.0  10.6  34.7  2.869971e+05   \n4   06-Jan-17 5:35:00 PM EET  27.2 -3.5  50.0  10.6  34.2 -2.869971e+05   \n5   06-Jan-17 5:40:00 PM EET  27.2 -3.5  50.0  10.1  34.2  1.599319e+02   \n6   06-Jan-17 5:45:00 PM EET  27.2 -3.5  50.0  10.1  34.2  1.599319e+02   \n7   06-Jan-17 5:50:00 PM EET  27.2 -3.5  50.0  10.1  34.2  1.599319e+02   \n8   06-Jan-17 5:55:00 PM EET  27.2 -3.5  50.0  10.1  34.7  2.869971e+05   \n9   06-Jan-17 6:00:00 PM EET  27.2 -4.0  50.0  10.1  34.7  1.599319e+02   \n10  06-Jan-17 6:05:00 PM EET  27.2 -4.0  50.0  10.1  34.7  1.599319e+02   \n11  06-Jan-17 6:10:00 PM EET  27.2 -3.5  50.0  10.1  34.7  1.599319e+02   \n12  06-Jan-17 6:15:00 PM EET  27.2 -4.0  50.0  10.1  34.7  1.599319e+02   \n13  06-Jan-17 6:20:00 PM EET  27.2 -3.5  50.0  10.1  34.7  1.599319e+02   \n14  06-Jan-17 6:25:00 PM EET  27.2 -3.5  50.0  10.1  34.7  1.599319e+02   \n\n    sup_diff       kwh  \n0       34.6  5.517164  \n1        0.1  0.015946  \n2       -0.5 -0.079728  \n3        0.5  0.079728  \n4       -0.5 -0.079728  \n5        0.0  0.000000  \n6        0.0  0.000000  \n7        0.0  0.000000  \n8        0.5  0.079728  \n9        0.0  0.000000  \n10       0.0  0.000000  \n11       0.0  0.000000  \n12       0.0  0.000000  \n13       0.0  0.000000  \n14       0.0  0.000000  \n\nTotal energy use is 22,512,811.04 in Joules.\nThis is 6.25 in kWh.\nThis computation took 12.570588541030883 minutes.\n"
     ]
    }
   ],
   "source": [
    "def CalculateEnergy(data):\n",
    "    \"\"\"Calculates the energy necessary to\n",
    "    attain a certain temperature.\"\"\"\n",
    "\n",
    "    # Creates two new columns: energy and sup_diff.\n",
    "    # Energy will be calculated using specific heat.\n",
    "    # Sup_diff calculates the difference in supply air temp.\n",
    "    data['energy'] = None\n",
    "    data['energy'] = pd.to_numeric(data['energy'], downcast='integer')\n",
    "    data['sup_diff'] = data['sup'].diff()\n",
    "    data['sup_diff'][0] = \"34.6\"\n",
    "\n",
    "    # The approximate density of air (room temperature) is 1.292 per cubic meter (m3).\n",
    "    # The cubic meter per hour in Cabin J14 is 439 m3/h.\n",
    "    mass = (1.292 * 439) # Kilograms.\n",
    "    specific_heat = 1012 # Joule.\n",
    "\n",
    "    start = time.time()\n",
    "\n",
    "    for row in data.itertuples():\n",
    "\n",
    "        # Calculates the energy required to heat up a room.\n",
    "        data['energy'] = (mass * specific_heat * data['sup_diff']).round(decimals=2)\n",
    "        data['kwh'] = (data['energy'] * 0.0000002778)\n",
    "        \n",
    "        # Fills up zero values with the average value.\n",
    "        data['energy'] = data['energy'].replace(to_replace=0, value=data['energy'].mean())\n",
    "\n",
    "    print(data.head(n=15))\n",
    "\n",
    "    # Sums up J and converts it to kWh.\n",
    "    JouleSum = data['energy'].sum()\n",
    "    kWhSum = (JouleSum * 0.0000002778)\n",
    "    \n",
    "    print(\"\\nTotal energy use is {0:,.2f} in Joules.\".format(JouleSum))\n",
    "    print(\"This is {0:,.2f} in kWh.\".format(kWhSum))\n",
    "\n",
    "    stop = time.time()\n",
    "    c_time = stop - start\n",
    "\n",
    "    print(\"This computation took \" + str((c_time / 60)) + \" minutes.\")\n",
    "\n",
    "    return data\n",
    "\n",
    "data = CalculateEnergy(data)"
   ]
  },
  {
   "cell_type": "code",
   "execution_count": null,
   "metadata": {},
   "outputs": [],
   "source": [
    "def CalculateRMT(data):\n",
    "    \"\"\"This function calculates the\n",
    "    hourly running mean outdoor \n",
    "    and indoor temperatures.\"\"\"\n",
    "\n",
    "    data['rmot'] = data['"
   ]
  },
  {
   "cell_type": "code",
   "execution_count": 51,
   "metadata": {},
   "outputs": [],
   "source": [
    "# Creating copies of the dataframe.\n",
    "data_copy = pd.DataFrame.copy(data, deep=True)\n",
    "data_v2 = pd.DataFrame.copy(data, deep=True)\n",
    "dat = pd.DataFrame.copy(data, deep=True)"
   ]
  },
  {
   "cell_type": "code",
   "execution_count": 55,
   "metadata": {},
   "outputs": [
    {
     "output_type": "error",
     "ename": "ValueError",
     "evalue": "time data '06-Jan-17 5:15:00 PM EET' does not match format '%Y%m%d' (match)",
     "traceback": [
      "\u001b[1;31m---------------------------------------------------------------------------\u001b[0m",
      "\u001b[1;31mTypeError\u001b[0m                                 Traceback (most recent call last)",
      "\u001b[1;32m~\\AppData\\Local\\Programs\\Python\\Python38\\lib\\site-packages\\pandas\\core\\tools\\datetimes.py\u001b[0m in \u001b[0;36m_convert_listlike_datetimes\u001b[1;34m(arg, format, name, tz, unit, errors, infer_datetime_format, dayfirst, yearfirst, exact)\u001b[0m\n\u001b[0;32m    449\u001b[0m             \u001b[1;32mtry\u001b[0m\u001b[1;33m:\u001b[0m\u001b[1;33m\u001b[0m\u001b[1;33m\u001b[0m\u001b[0m\n\u001b[1;32m--> 450\u001b[1;33m                 \u001b[0mvalues\u001b[0m\u001b[1;33m,\u001b[0m \u001b[0mtz\u001b[0m \u001b[1;33m=\u001b[0m \u001b[0mconversion\u001b[0m\u001b[1;33m.\u001b[0m\u001b[0mdatetime_to_datetime64\u001b[0m\u001b[1;33m(\u001b[0m\u001b[0marg\u001b[0m\u001b[1;33m)\u001b[0m\u001b[1;33m\u001b[0m\u001b[1;33m\u001b[0m\u001b[0m\n\u001b[0m\u001b[0;32m    451\u001b[0m                 \u001b[0mdta\u001b[0m \u001b[1;33m=\u001b[0m \u001b[0mDatetimeArray\u001b[0m\u001b[1;33m(\u001b[0m\u001b[0mvalues\u001b[0m\u001b[1;33m,\u001b[0m \u001b[0mdtype\u001b[0m\u001b[1;33m=\u001b[0m\u001b[0mtz_to_dtype\u001b[0m\u001b[1;33m(\u001b[0m\u001b[0mtz\u001b[0m\u001b[1;33m)\u001b[0m\u001b[1;33m)\u001b[0m\u001b[1;33m\u001b[0m\u001b[1;33m\u001b[0m\u001b[0m\n",
      "\u001b[1;32mpandas\\_libs\\tslibs\\conversion.pyx\u001b[0m in \u001b[0;36mpandas._libs.tslibs.conversion.datetime_to_datetime64\u001b[1;34m()\u001b[0m\n",
      "\u001b[1;31mTypeError\u001b[0m: Unrecognized value type: <class 'str'>",
      "\nDuring handling of the above exception, another exception occurred:\n",
      "\u001b[1;31mValueError\u001b[0m                                Traceback (most recent call last)",
      "\u001b[1;32m<ipython-input-55-1ae98592f922>\u001b[0m in \u001b[0;36m<module>\u001b[1;34m\u001b[0m\n\u001b[1;32m----> 1\u001b[1;33m \u001b[0mdat\u001b[0m\u001b[1;33m[\u001b[0m\u001b[1;34m'date'\u001b[0m\u001b[1;33m]\u001b[0m \u001b[1;33m=\u001b[0m \u001b[0mpd\u001b[0m\u001b[1;33m.\u001b[0m\u001b[0mto_datetime\u001b[0m\u001b[1;33m(\u001b[0m\u001b[0mdat\u001b[0m\u001b[1;33m[\u001b[0m\u001b[1;34m'date'\u001b[0m\u001b[1;33m]\u001b[0m\u001b[1;33m,\u001b[0m \u001b[0mformat\u001b[0m\u001b[1;33m=\u001b[0m\u001b[1;34m'%Y%m%d'\u001b[0m\u001b[1;33m)\u001b[0m\u001b[1;33m\u001b[0m\u001b[1;33m\u001b[0m\u001b[0m\n\u001b[0m\u001b[0;32m      2\u001b[0m \u001b[1;31m# dat.index = dat.set_index('date')\u001b[0m\u001b[1;33m\u001b[0m\u001b[1;33m\u001b[0m\u001b[1;33m\u001b[0m\u001b[0m\n\u001b[0;32m      3\u001b[0m \u001b[1;33m\u001b[0m\u001b[0m\n\u001b[0;32m      4\u001b[0m \u001b[1;31m# hourly_mean = dat['ext'].resample('H').mean()\u001b[0m\u001b[1;33m\u001b[0m\u001b[1;33m\u001b[0m\u001b[1;33m\u001b[0m\u001b[0m\n\u001b[0;32m      5\u001b[0m \u001b[1;31m# print(hourly_mean)\u001b[0m\u001b[1;33m\u001b[0m\u001b[1;33m\u001b[0m\u001b[1;33m\u001b[0m\u001b[0m\n",
      "\u001b[1;32m~\\AppData\\Local\\Programs\\Python\\Python38\\lib\\site-packages\\pandas\\core\\tools\\datetimes.py\u001b[0m in \u001b[0;36mto_datetime\u001b[1;34m(arg, errors, dayfirst, yearfirst, utc, format, exact, unit, infer_datetime_format, origin, cache)\u001b[0m\n\u001b[0;32m    801\u001b[0m             \u001b[0mresult\u001b[0m \u001b[1;33m=\u001b[0m \u001b[0marg\u001b[0m\u001b[1;33m.\u001b[0m\u001b[0mmap\u001b[0m\u001b[1;33m(\u001b[0m\u001b[0mcache_array\u001b[0m\u001b[1;33m)\u001b[0m\u001b[1;33m\u001b[0m\u001b[1;33m\u001b[0m\u001b[0m\n\u001b[0;32m    802\u001b[0m         \u001b[1;32melse\u001b[0m\u001b[1;33m:\u001b[0m\u001b[1;33m\u001b[0m\u001b[1;33m\u001b[0m\u001b[0m\n\u001b[1;32m--> 803\u001b[1;33m             \u001b[0mvalues\u001b[0m \u001b[1;33m=\u001b[0m \u001b[0mconvert_listlike\u001b[0m\u001b[1;33m(\u001b[0m\u001b[0marg\u001b[0m\u001b[1;33m.\u001b[0m\u001b[0m_values\u001b[0m\u001b[1;33m,\u001b[0m \u001b[0mformat\u001b[0m\u001b[1;33m)\u001b[0m\u001b[1;33m\u001b[0m\u001b[1;33m\u001b[0m\u001b[0m\n\u001b[0m\u001b[0;32m    804\u001b[0m             \u001b[0mresult\u001b[0m \u001b[1;33m=\u001b[0m \u001b[0marg\u001b[0m\u001b[1;33m.\u001b[0m\u001b[0m_constructor\u001b[0m\u001b[1;33m(\u001b[0m\u001b[0mvalues\u001b[0m\u001b[1;33m,\u001b[0m \u001b[0mindex\u001b[0m\u001b[1;33m=\u001b[0m\u001b[0marg\u001b[0m\u001b[1;33m.\u001b[0m\u001b[0mindex\u001b[0m\u001b[1;33m,\u001b[0m \u001b[0mname\u001b[0m\u001b[1;33m=\u001b[0m\u001b[0marg\u001b[0m\u001b[1;33m.\u001b[0m\u001b[0mname\u001b[0m\u001b[1;33m)\u001b[0m\u001b[1;33m\u001b[0m\u001b[1;33m\u001b[0m\u001b[0m\n\u001b[0;32m    805\u001b[0m     \u001b[1;32melif\u001b[0m \u001b[0misinstance\u001b[0m\u001b[1;33m(\u001b[0m\u001b[0marg\u001b[0m\u001b[1;33m,\u001b[0m \u001b[1;33m(\u001b[0m\u001b[0mABCDataFrame\u001b[0m\u001b[1;33m,\u001b[0m \u001b[0mabc\u001b[0m\u001b[1;33m.\u001b[0m\u001b[0mMutableMapping\u001b[0m\u001b[1;33m)\u001b[0m\u001b[1;33m)\u001b[0m\u001b[1;33m:\u001b[0m\u001b[1;33m\u001b[0m\u001b[1;33m\u001b[0m\u001b[0m\n",
      "\u001b[1;32m~\\AppData\\Local\\Programs\\Python\\Python38\\lib\\site-packages\\pandas\\core\\tools\\datetimes.py\u001b[0m in \u001b[0;36m_convert_listlike_datetimes\u001b[1;34m(arg, format, name, tz, unit, errors, infer_datetime_format, dayfirst, yearfirst, exact)\u001b[0m\n\u001b[0;32m    452\u001b[0m                 \u001b[1;32mreturn\u001b[0m \u001b[0mDatetimeIndex\u001b[0m\u001b[1;33m.\u001b[0m\u001b[0m_simple_new\u001b[0m\u001b[1;33m(\u001b[0m\u001b[0mdta\u001b[0m\u001b[1;33m,\u001b[0m \u001b[0mname\u001b[0m\u001b[1;33m=\u001b[0m\u001b[0mname\u001b[0m\u001b[1;33m)\u001b[0m\u001b[1;33m\u001b[0m\u001b[1;33m\u001b[0m\u001b[0m\n\u001b[0;32m    453\u001b[0m             \u001b[1;32mexcept\u001b[0m \u001b[1;33m(\u001b[0m\u001b[0mValueError\u001b[0m\u001b[1;33m,\u001b[0m \u001b[0mTypeError\u001b[0m\u001b[1;33m)\u001b[0m\u001b[1;33m:\u001b[0m\u001b[1;33m\u001b[0m\u001b[1;33m\u001b[0m\u001b[0m\n\u001b[1;32m--> 454\u001b[1;33m                 \u001b[1;32mraise\u001b[0m \u001b[0me\u001b[0m\u001b[1;33m\u001b[0m\u001b[1;33m\u001b[0m\u001b[0m\n\u001b[0m\u001b[0;32m    455\u001b[0m \u001b[1;33m\u001b[0m\u001b[0m\n\u001b[0;32m    456\u001b[0m     \u001b[1;32mif\u001b[0m \u001b[0mresult\u001b[0m \u001b[1;32mis\u001b[0m \u001b[1;32mNone\u001b[0m\u001b[1;33m:\u001b[0m\u001b[1;33m\u001b[0m\u001b[1;33m\u001b[0m\u001b[0m\n",
      "\u001b[1;32m~\\AppData\\Local\\Programs\\Python\\Python38\\lib\\site-packages\\pandas\\core\\tools\\datetimes.py\u001b[0m in \u001b[0;36m_convert_listlike_datetimes\u001b[1;34m(arg, format, name, tz, unit, errors, infer_datetime_format, dayfirst, yearfirst, exact)\u001b[0m\n\u001b[0;32m    415\u001b[0m             \u001b[1;32mif\u001b[0m \u001b[0mresult\u001b[0m \u001b[1;32mis\u001b[0m \u001b[1;32mNone\u001b[0m\u001b[1;33m:\u001b[0m\u001b[1;33m\u001b[0m\u001b[1;33m\u001b[0m\u001b[0m\n\u001b[0;32m    416\u001b[0m                 \u001b[1;32mtry\u001b[0m\u001b[1;33m:\u001b[0m\u001b[1;33m\u001b[0m\u001b[1;33m\u001b[0m\u001b[0m\n\u001b[1;32m--> 417\u001b[1;33m                     result, timezones = array_strptime(\n\u001b[0m\u001b[0;32m    418\u001b[0m                         \u001b[0marg\u001b[0m\u001b[1;33m,\u001b[0m \u001b[0mformat\u001b[0m\u001b[1;33m,\u001b[0m \u001b[0mexact\u001b[0m\u001b[1;33m=\u001b[0m\u001b[0mexact\u001b[0m\u001b[1;33m,\u001b[0m \u001b[0merrors\u001b[0m\u001b[1;33m=\u001b[0m\u001b[0merrors\u001b[0m\u001b[1;33m\u001b[0m\u001b[1;33m\u001b[0m\u001b[0m\n\u001b[0;32m    419\u001b[0m                     )\n",
      "\u001b[1;32mpandas\\_libs\\tslibs\\strptime.pyx\u001b[0m in \u001b[0;36mpandas._libs.tslibs.strptime.array_strptime\u001b[1;34m()\u001b[0m\n",
      "\u001b[1;31mValueError\u001b[0m: time data '06-Jan-17 5:15:00 PM EET' does not match format '%Y%m%d' (match)"
     ]
    }
   ],
   "source": [
    "dat['date'] = pd.to_datetime(dat['date'], format='%Y%m%d')\n",
    "# dat.index = dat.set_index('date')\n",
    "\n",
    "# hourly_mean = dat['ext'].resample('H').mean()\n",
    "# print(hourly_mean)"
   ]
  },
  {
   "cell_type": "code",
   "execution_count": null,
   "metadata": {},
   "outputs": [],
   "source": []
  }
 ]
}